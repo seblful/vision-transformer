{
 "cells": [
  {
   "cell_type": "markdown",
   "id": "31736848-0cbe-45be-bc0f-53898767e363",
   "metadata": {},
   "source": [
    "# General"
   ]
  },
  {
   "cell_type": "markdown",
   "id": "69435bd1-2ae9-4c5d-b78c-b3214116b0a1",
   "metadata": {},
   "source": [
    "In this Jupyter notebook, I will replicate the paper **\"An Image is Worth 16x16 Words: Transformers for Image Recognition at Scale\" by Dosovitskiy et al.** with Pytorch. The paper proposes a new approach to image recognition using transformers, a type of neural network commonly used in natural language processing.\n",
    "\n",
    "**ViT** - Stands for Vision Transformer. Short hand for the original machine learning research paper that introduced the ViT architecture, [An Image is Worth 16x16 Words: Transformers for Image Recognition at Scale](https://arxiv.org/abs/2010.11929), anytime ViT paper is mentioned, you can be assured it is referencing this paper."
   ]
  },
  {
   "cell_type": "code",
   "execution_count": null,
   "id": "a0252490-b307-4e13-b0d0-c2a221469038",
   "metadata": {},
   "outputs": [],
   "source": []
  }
 ],
 "metadata": {
  "kernelspec": {
   "display_name": "tor_env",
   "language": "python",
   "name": "tor_env"
  },
  "language_info": {
   "codemirror_mode": {
    "name": "ipython",
    "version": 3
   },
   "file_extension": ".py",
   "mimetype": "text/x-python",
   "name": "python",
   "nbconvert_exporter": "python",
   "pygments_lexer": "ipython3",
   "version": "3.10.9"
  },
  "toc-autonumbering": true
 },
 "nbformat": 4,
 "nbformat_minor": 5
}
